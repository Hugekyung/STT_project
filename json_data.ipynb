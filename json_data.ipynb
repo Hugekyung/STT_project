{
 "cells": [
  {
   "cell_type": "code",
   "execution_count": 1,
   "metadata": {},
   "outputs": [],
   "source": [
    "from newspaper import Article\n",
    "import pandas as pd\n",
    "import re\n",
    "import torch"
   ]
  },
  {
   "cell_type": "code",
   "execution_count": 2,
   "metadata": {},
   "outputs": [],
   "source": [
    "def clean(x):\n",
    "    return x.replace(\"(\",\"\").replace(\")\",\"\").replace(\"{\",\"\").replace(\"}\",\"\").replace(\"[\",\"\").replace(\"]\",\"\").replace('\"',\"\").replace(\"'\",\"\").replace(\"=\",\"\")\n",
    "def _get_ngrams(n, text):\n",
    "    \"\"\"Calcualtes n-grams.\n",
    "\n",
    "    Args:\n",
    "      n: which n-grams to calculate\n",
    "      text: An array of tokens\n",
    "\n",
    "    Returns:\n",
    "      A set of n-grams\n",
    "    \"\"\"\n",
    "    ngram_set = set()\n",
    "    text_length = len(text)\n",
    "    max_index_ngram_start = text_length - n\n",
    "    for i in range(max_index_ngram_start + 1):\n",
    "        ngram_set.add(tuple(text[i:i + n]))\n",
    "    return ngram_set\n",
    "\n",
    "\n",
    "def _get_word_ngrams(n, sentences):\n",
    "    \"\"\"Calculates word n-grams for multiple sentences.\n",
    "    \"\"\"\n",
    "    assert len(sentences) > 0\n",
    "    assert n > 0\n",
    "\n",
    "    # words = _split_into_words(sentences)\n",
    "\n",
    "    words = sum(sentences, [])\n",
    "    # words = [w for w in words if w not in stopwords]\n",
    "    return _get_ngrams(n, words)"
   ]
  },
  {
   "cell_type": "code",
   "execution_count": 3,
   "metadata": {},
   "outputs": [],
   "source": [
    "url1=\"https://news.naver.com/main/ranking/read.nhn?mid=etc&sid1=111&rankingType=popular_day&oid=015&aid=0004435156&date=20201021&type=1&rankingSeq=1&rankingSectionId=104\"\n",
    "url2=\"https://news.naver.com/main/ranking/read.nhn?mid=etc&sid1=111&rankingType=popular_day&oid=296&aid=0000046738&date=20201011&type=1&rankingSeq=2&rankingSectionId=103\"\n",
    "url3=\"https://news.naver.com/main/ranking/read.nhn?mid=etc&sid1=111&rankingType=popular_day&oid=009&aid=0004678970&date=20201021&type=1&rankingSeq=5&rankingSectionId=103\"\n",
    "url4=\"https://news.naver.com/main/ranking/read.nhn?mid=etc&sid1=111&rankingType=popular_day&oid=025&aid=0003045159&date=20201021&type=1&rankingSeq=1&rankingSectionId=105\"\n",
    "url5=\"https://news.naver.com/main/ranking/read.nhn?mid=etc&sid1=111&rankingType=popular_day&oid=138&aid=0002093413&date=20201021&type=1&rankingSeq=2&rankingSectionId=105\"\n",
    "url6=\"https://news.naver.com/main/ranking/read.nhn?mid=etc&sid1=111&rankingType=popular_day&oid=056&aid=0010920303&date=20201021&type=1&rankingSeq=3&rankingSectionId=105\""
   ]
  },
  {
   "cell_type": "code",
   "execution_count": 4,
   "metadata": {},
   "outputs": [],
   "source": [
    "article=Article(url1, language='ko')\n",
    "article.download()\n",
    "article.parse()\n",
    "text1=article.text\n",
    "article=Article(url2, language='ko')\n",
    "article.download()\n",
    "article.parse()\n",
    "text2=article.text\n",
    "article=Article(url3, language='ko')\n",
    "article.download()\n",
    "article.parse()\n",
    "text3=article.text\n",
    "article=Article(url4, language='ko')\n",
    "article.download()\n",
    "article.parse()\n",
    "text4=article.text\n",
    "article=Article(url5, language='ko')\n",
    "article.download()\n",
    "article.parse()\n",
    "text5=article.text\n",
    "article=Article(url6, language='ko')\n",
    "article.download()\n",
    "article.parse()\n",
    "text6=article.text"
   ]
  },
  {
   "cell_type": "code",
   "execution_count": 5,
   "metadata": {},
   "outputs": [],
   "source": [
    "tgt_text1=\"그런데 왓츠앱의 경우 암호화 처리를 하기 때문에 왓츠앱을 통해 주고받은 대화 내용을 은행에서 확인하기가 쉽지 않다는 점이 문제가 돼 왔다. 그러나 은행 직원들은 왓츠앱을 통해 주변 사람들과 편하게 대화를 나눌 수 있기 때문에 회사 방침에도 불구하고 사용을 전면 중단하지는 않고 있다. 모간스탠리가 이번에 해고한 킹 대표 등 두 명 모두 왓츠앱을 통해 위법행위를 저지르지 않은 것으로 드러났다.\"\n",
    "tgt_text2=\"건강수명을 누리려면 먼저 치매, 만성질환, 암 등 치료가 어렵고 투병기간이 긴 질병부터 예방해야 한다. 근육을 저축하고 키우기 위해서는 근력운동과 단백질 섭취, 비타민 D 섭취 등을 동시에 하는 것이 가장 좋다. 젊을 때부터 근력운동을 통해 근육의 힘을 많이 키워놓으면 크게 도움이 된다.\"\n",
    "tgt_text3=\"롯데그룹이 갈수록 치열해지는 온·오프라인 유통시장 경쟁에서 승리하기 위해 본격적인 빅데이터 경영에 나선다. 데이터를 무기로 시장을 잠식하는 네이버와 카카오 등 IT공룡들의 공세에 맞서 강희태 유통BU장·롯데쇼핑 부회장 직속의 빅데이터 조직을 발족, 그간 각 계열사별로 따로 관리하던 소비데이터를 그룹 차원에서 한데 모아 분석하고 이에 맞는 맞춤형 쇼핑서비스를 선보인다는 목표다. 21일 롯데에 따르면 강 부회장이 이끄는 롯데 유통BU는 지난 1일 강 부회장 직속의 데이터 거버넌스 태스크포스를 출범하고, TF장이자 CDO로 윤영선 롯데정보통신 상무를 임명했다.\"\n",
    "tgt_text4=\"8년간 의식장애로 인한 마비로 침대에 누워있거나 휠체어에 묶여 있던 네덜란드 30대 남성이 수면제 복용 20분 만에 정상능력을 회복해 다시 걷고 말하고, 먹을 수 있게 됐다. 한편 앞서도 혼수상태에 있던 환자가 수면제 복용 뒤 일시적으로 정상 능력을 회복했다는 연구결과가 있었다. 연구팀은 리처드 치료를 계기로 수면제를 활용해 뇌손상이나 혼수상태에 있는 환자를 영구적인 정상 상태로 회복시키는 방안을 연구하고 있다.\"\n",
    "tgt_text5=\"예상보다 글로벌 가입자가 적게 늘었다. 대신 한국과 일본이 체면치레를 해줬다. 넷플릭스가 이번 분기 국내에서 상당한 수익을 벌고 갈 것으로 예상되면서 국회를 중심으로 한국시장 무임승차 논란이 다시 한번 불거질 전망이다.\"\n",
    "tgt_text6=\"미국의 소행성 탐사선 '오시리스-렉스'가 20일 소행성 '101955 베누' 표면에 접지해 암석 표본을 채집하는 데 성공했습니다. 이번에 채취된 베누의 샘플은 2023년쯤 받아볼 수 있을 전망입니다. 나사는 이를 통해 베누의 구성 성분과 기원, 형성과정 등을 살피고 수분의 존재 여부 등도 조사하게 됩니다.\""
   ]
  },
  {
   "cell_type": "code",
   "execution_count": 6,
   "metadata": {},
   "outputs": [
    {
     "data": {
      "text/html": [
       "<div>\n",
       "<style scoped>\n",
       "    .dataframe tbody tr th:only-of-type {\n",
       "        vertical-align: middle;\n",
       "    }\n",
       "\n",
       "    .dataframe tbody tr th {\n",
       "        vertical-align: top;\n",
       "    }\n",
       "\n",
       "    .dataframe thead th {\n",
       "        text-align: right;\n",
       "    }\n",
       "</style>\n",
       "<table border=\"1\" class=\"dataframe\">\n",
       "  <thead>\n",
       "    <tr style=\"text-align: right;\">\n",
       "      <th></th>\n",
       "      <th>body</th>\n",
       "      <th>tgt</th>\n",
       "    </tr>\n",
       "  </thead>\n",
       "  <tbody>\n",
       "    <tr>\n",
       "      <th>0</th>\n",
       "      <td>사진=연합뉴스 사진=연합뉴스\\n\\n미국 월스트리트에서 거액 연봉을 받던 트레이더들이...</td>\n",
       "      <td>그런데 왓츠앱의 경우 암호화 처리를 하기 때문에 왓츠앱을 통해 주고받은 대화 내용을...</td>\n",
       "    </tr>\n",
       "    <tr>\n",
       "      <th>1</th>\n",
       "      <td>[사진=게티이미지뱅크] [사진=게티이미지뱅크]\\n\\n요즘은 \"오래사세요\"(장수)보다...</td>\n",
       "      <td>건강수명을 누리려면 먼저 치매, 만성질환, 암 등 치료가 어렵고 투병기간이 긴 질병...</td>\n",
       "    </tr>\n",
       "    <tr>\n",
       "      <th>2</th>\n",
       "      <td>롯데그룹이 갈수록 치열해지는 온·오프라인 유통시장 경쟁에서 승리하기 위해 본격적인 ...</td>\n",
       "      <td>롯데그룹이 갈수록 치열해지는 온·오프라인 유통시장 경쟁에서 승리하기 위해 본격적인 ...</td>\n",
       "    </tr>\n",
       "    <tr>\n",
       "      <th>3</th>\n",
       "      <td>졸피뎀. 연합뉴스 졸피뎀. 연합뉴스\\n\\n8년간 의식장애로 인한 마비로 침대에 누워...</td>\n",
       "      <td>8년간 의식장애로 인한 마비로 침대에 누워있거나 휠체어에 묶여 있던 네덜란드 30대...</td>\n",
       "    </tr>\n",
       "    <tr>\n",
       "      <th>4</th>\n",
       "      <td>[디지털데일리 권하영기자] 넷플릭스가 기대이하 성적을 냈다. 예상보다 글로벌 가입자...</td>\n",
       "      <td>예상보다 글로벌 가입자가 적게 늘었다. 대신 한국과 일본이 체면치레를 해줬다. 넷플...</td>\n",
       "    </tr>\n",
       "    <tr>\n",
       "      <th>5</th>\n",
       "      <td>사진출처: NASA 사진출처: NASA\\n\\n사진출처: NASA 사진출처: NASA...</td>\n",
       "      <td>미국의 소행성 탐사선 '오시리스-렉스'가 20일 소행성 '101955 베누' 표면에...</td>\n",
       "    </tr>\n",
       "  </tbody>\n",
       "</table>\n",
       "</div>"
      ],
      "text/plain": [
       "                                                body  \\\n",
       "0  사진=연합뉴스 사진=연합뉴스\\n\\n미국 월스트리트에서 거액 연봉을 받던 트레이더들이...   \n",
       "1  [사진=게티이미지뱅크] [사진=게티이미지뱅크]\\n\\n요즘은 \"오래사세요\"(장수)보다...   \n",
       "2  롯데그룹이 갈수록 치열해지는 온·오프라인 유통시장 경쟁에서 승리하기 위해 본격적인 ...   \n",
       "3  졸피뎀. 연합뉴스 졸피뎀. 연합뉴스\\n\\n8년간 의식장애로 인한 마비로 침대에 누워...   \n",
       "4  [디지털데일리 권하영기자] 넷플릭스가 기대이하 성적을 냈다. 예상보다 글로벌 가입자...   \n",
       "5  사진출처: NASA 사진출처: NASA\\n\\n사진출처: NASA 사진출처: NASA...   \n",
       "\n",
       "                                                 tgt  \n",
       "0  그런데 왓츠앱의 경우 암호화 처리를 하기 때문에 왓츠앱을 통해 주고받은 대화 내용을...  \n",
       "1  건강수명을 누리려면 먼저 치매, 만성질환, 암 등 치료가 어렵고 투병기간이 긴 질병...  \n",
       "2  롯데그룹이 갈수록 치열해지는 온·오프라인 유통시장 경쟁에서 승리하기 위해 본격적인 ...  \n",
       "3  8년간 의식장애로 인한 마비로 침대에 누워있거나 휠체어에 묶여 있던 네덜란드 30대...  \n",
       "4  예상보다 글로벌 가입자가 적게 늘었다. 대신 한국과 일본이 체면치레를 해줬다. 넷플...  \n",
       "5  미국의 소행성 탐사선 '오시리스-렉스'가 20일 소행성 '101955 베누' 표면에...  "
      ]
     },
     "execution_count": 6,
     "metadata": {},
     "output_type": "execute_result"
    }
   ],
   "source": [
    "df=pd.DataFrame({\"body\":[text1,text2,text3,text4,text5,text6],\"tgt\":[tgt_text1,tgt_text2,tgt_text3,tgt_text4,tgt_text5,tgt_text6]})\n",
    "df"
   ]
  },
  {
   "cell_type": "code",
   "execution_count": 9,
   "metadata": {},
   "outputs": [],
   "source": [
    "df[:5].to_csv(\"train_data.csv\",index=False)\n",
    "df[5:].to_csv(\"test_data.csv\",index=False)"
   ]
  },
  {
   "cell_type": "code",
   "execution_count": 10,
   "metadata": {},
   "outputs": [],
   "source": [
    "from konlpy.tag import Kkma\n",
    "def load_data(row):\n",
    "    kkma=Kkma()\n",
    "    article=row[\"body\"]\n",
    "    abstract=row[\"tgt\"]\n",
    "#     article=article.text\n",
    "#     abstract=tgt_text\n",
    "    src_txt=kkma.sentences(article)\n",
    "    tgt_txt=kkma.sentences(abstract)\n",
    "\n",
    "    source=[kkma.morphs(clean(sen)) for sen in src_txt]\n",
    "    tgt=[kkma.morphs(clean(sen)) for sen in tgt_txt]\n",
    "    return source,tgt\n",
    "def _format_to_lines(f):\n",
    "    source, tgt = load_data(f)\n",
    "    return {'src': source, 'tgt': tgt}\n",
    "\n",
    "def format_to_lines():\n",
    "    for corpus_type in ['test', 'train']:\n",
    "        df=pd.read_csv(corpus_type+\"_data.csv\")\n",
    "        df.apply(_format_to_lines,axis=1).to_json(\"cnndm_sample.\"+corpus_type+\".0\"+\".json\",orient=\"records\")\n",
    "format_to_lines()"
   ]
  },
  {
   "cell_type": "code",
   "execution_count": null,
   "metadata": {},
   "outputs": [],
   "source": []
  }
 ],
 "metadata": {
  "kernelspec": {
   "display_name": "Python 3",
   "language": "python",
   "name": "python3"
  },
  "language_info": {
   "codemirror_mode": {
    "name": "ipython",
    "version": 3
   },
   "file_extension": ".py",
   "mimetype": "text/x-python",
   "name": "python",
   "nbconvert_exporter": "python",
   "pygments_lexer": "ipython3",
   "version": "3.7.6"
  }
 },
 "nbformat": 4,
 "nbformat_minor": 4
}
