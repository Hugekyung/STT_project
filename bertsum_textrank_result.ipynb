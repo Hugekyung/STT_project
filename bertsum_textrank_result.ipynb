{
 "cells": [
  {
   "cell_type": "code",
   "execution_count": 1,
   "metadata": {},
   "outputs": [],
   "source": [
    "import pandas as pd\n",
    "df=pd.read_csv(\"test_data.csv\")[\"src\"]"
   ]
  },
  {
   "cell_type": "code",
   "execution_count": 2,
   "metadata": {},
   "outputs": [],
   "source": [
    "with open(\"C:/ProgramData/Anaconda3/Lib/site-packages/BertSum/results/okt/cnndm_step1000.txt\",\"r\") as f:\n",
    "    file=f.read()"
   ]
  },
  {
   "cell_type": "code",
   "execution_count": 3,
   "metadata": {},
   "outputs": [
    {
     "output_type": "execute_result",
     "data": {
      "text/plain": [
       "'코로나19 신규 환자 수가 64명 추가돼 이달 들어 나흘 연속 두 자릿수를 기록했습니다. 그러나 지역사회에서의 집단 감염이 계속되고 있어 방역 당국은 여전히 긴정하고 있습니다. 이덕영 기자입니다. 오늘 0시 기준 코로나19 신규 확진 환자는 64명입니다. 국내발생 47명 해외 유입 17명입니다. 이달 들어 나흘 연속 하루 신규 환자수가 두 자릿수를 나타내고 있는 겁니다. 하지만 추석 연휴를 받아 진단검사 수가 줄어든 가운데 전국적인 인구 이동으로 조용한 전파가 이뤄스 가능성도 있어 방역당국은 여전히 긴장을 늦추지 못하고 있습니다. 지역별로는 서울과 인천 경기 등 수도권에서 38명 부산 5명 경북 4명 대구 대전 충북 100명 등이 양성 판정을 받았습니다. 종교시설과 요양원 의료기관 등 사양한 장소에서의 집단발생이 계속되고 있는 상황입니다. 어제 정오 기준 서울 도봉구 단화병원 관련 확진자는 46명으로 늘어났고 경기도 포천의 소망공동체 유항원 관련해서도 14명이 확진됐습니다. 또 인천 미추홀구 소망교의 교인 10명과 부산 연재구 건강용품 4명의 관련 24명이 확진 판정을 받았습니다. 추석 귀성의 영향으로 부산을 방문한 서울과 울산 거주자 2명이 확진됐습니다. 한편 위중중증 환자는 105명이고 사망자는 1명이 추가돼 모두 421명으로 늘어났습니다. 엠비씨뉴스 이덕영입니다.'"
      ]
     },
     "metadata": {},
     "execution_count": 3
    }
   ],
   "source": [
    "df[0]"
   ]
  },
  {
   "cell_type": "code",
   "execution_count": 4,
   "metadata": {},
   "outputs": [
    {
     "output_type": "execute_result",
     "data": {
      "text/plain": [
       "['코로나 19 신규 환자 수가 64 명 추가 돼 이 달 들어 나흘 연속 두 자릿수 를 기록 했습니다 .',\n",
       " '그러나 지역 사회 에서의 집단 감염 이 계속 되고 있어 방역 당국 은 여전히 긴 정 하고 있습니다 .',\n",
       " '이 덕 영 기자 입니다 .']"
      ]
     },
     "metadata": {},
     "execution_count": 4
    }
   ],
   "source": [
    "file.split(\"\\n\")[-2::-1][4].split(\"<q>\")"
   ]
  },
  {
   "cell_type": "code",
   "execution_count": 5,
   "metadata": {},
   "outputs": [],
   "source": [
    "text=df[0]"
   ]
  },
  {
   "cell_type": "code",
   "execution_count": 8,
   "metadata": {},
   "outputs": [],
   "source": [
    "from krwordrank.sentence import summarize_with_sentences\n",
    "from gensim.summarization.summarizer import summarize\n",
    "from textrank.textrank import KeysentenceSummarizer\n",
    "from konlpy.tag import Okt\n",
    "\n",
    "class Textrank():\n",
    "\n",
    "    def __init__(self):\n",
    "        self.okt = Okt()\n",
    "    \n",
    "    def summarizer(self, text, option = 'krwordrank'): # 'gensim', 'textrank', 'krwordrank'\n",
    "        sent_lst = text.split(\". \")\n",
    "        if option == 'krwordrank':\n",
    "            result = summarize_with_sentences(sent_lst, num_keysents=3)[1]\n",
    "        elif option == 'gensim':\n",
    "            result = summarize(text, ratio=3/len(sent_lst)).split(\"\\n\")\n",
    "        else:\n",
    "            ks_summarizer = KeysentenceSummarizer(tokenize = self.okt.morphs)\n",
    "            result = list(zip(*ks_summarizer.summarize(sents=sent_lst,topk=3)))[2]\n",
    "        return result\n"
   ]
  },
  {
   "cell_type": "code",
   "execution_count": 9,
   "metadata": {},
   "outputs": [
    {
     "output_type": "execute_result",
     "data": {
      "text/plain": [
       "['오늘 0시 기준 코로나19 신규 확진 환자는 64명입니다',\n",
       " '코로나19 신규 환자 수가 64명 추가돼 이달 들어 나흘 연속 두 자릿수를 기록했습니다',\n",
       " '그러나 지역사회에서의 집단 감염이 계속되고 있어 방역 당국은 여전히 긴정하고 있습니다']"
      ]
     },
     "metadata": {},
     "execution_count": 9
    }
   ],
   "source": [
    "textrank=Textrank()\n",
    "textrank.summarizer(text=df[0],option=\"krwordrank\")"
   ]
  },
  {
   "cell_type": "code",
   "execution_count": 10,
   "metadata": {},
   "outputs": [
    {
     "output_type": "execute_result",
     "data": {
      "text/plain": [
       "['코로나19 신규 환자 수가 64명 추가돼 이달 들어 나흘 연속 두 자릿수를 기록했습니다.',\n",
       " '그러나 지역사회에서의 집단 감염이 계속되고 있어 방역 당국은 여전히 긴정하고 있습니다.',\n",
       " '오늘 0시 기준 코로나19 신규 확진 환자는 64명입니다.']"
      ]
     },
     "metadata": {},
     "execution_count": 10
    }
   ],
   "source": [
    "textrank=Textrank()\n",
    "textrank.summarizer(text=df[0],option=\"gensim\")"
   ]
  },
  {
   "cell_type": "code",
   "execution_count": 11,
   "metadata": {},
   "outputs": [
    {
     "output_type": "execute_result",
     "data": {
      "text/plain": [
       "('코로나19 신규 환자 수가 64명 추가돼 이달 들어 나흘 연속 두 자릿수를 기록했습니다',\n",
       " '추석 귀성의 영향으로 부산을 방문한 서울과 울산 거주자 2명이 확진됐습니다',\n",
       " '종교시설과 요양원 의료기관 등 사양한 장소에서의 집단발생이 계속되고 있는 상황입니다')"
      ]
     },
     "metadata": {},
     "execution_count": 11
    }
   ],
   "source": [
    "textrank=Textrank()\n",
    "textrank.summarizer(text=df[0],option=\"textrank\")"
   ]
  },
  {
   "cell_type": "code",
   "execution_count": null,
   "metadata": {},
   "outputs": [],
   "source": []
  }
 ],
 "metadata": {
  "kernelspec": {
   "display_name": "Python 3",
   "language": "python",
   "name": "python3"
  },
  "language_info": {
   "codemirror_mode": {
    "name": "ipython",
    "version": 3
   },
   "file_extension": ".py",
   "mimetype": "text/x-python",
   "name": "python",
   "nbconvert_exporter": "python",
   "pygments_lexer": "ipython3",
   "version": "3.7.6-final"
  }
 },
 "nbformat": 4,
 "nbformat_minor": 4
}